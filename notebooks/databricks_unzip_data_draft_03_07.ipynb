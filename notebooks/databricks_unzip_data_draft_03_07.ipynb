{
 "cells": [
  {
   "cell_type": "code",
   "execution_count": 0,
   "metadata": {
    "application/vnd.databricks.v1+cell": {
     "cellMetadata": {
      "byteLimit": 2048000,
      "rowLimit": 10000
     },
     "inputWidgets": {},
     "nuid": "9e614e1d-b7a5-419d-b998-c2baea581739",
     "showTitle": false,
     "title": ""
    }
   },
   "outputs": [
    {
     "output_type": "stream",
     "name": "stdout",
     "output_type": "stream",
     "text": [
      "Python interpreter will be restarted.\nCollecting azure-core==1.27.1\n  Downloading azure_core-1.27.1-py3-none-any.whl (174 kB)\nCollecting typing-extensions>=4.3.0\n  Downloading typing_extensions-4.7.1-py3-none-any.whl (33 kB)\nRequirement already satisfied: six>=1.11.0 in /databricks/python3/lib/python3.9/site-packages (from azure-core==1.27.1) (1.16.0)\nRequirement already satisfied: requests>=2.18.4 in /databricks/python3/lib/python3.9/site-packages (from azure-core==1.27.1) (2.27.1)\nRequirement already satisfied: idna<4,>=2.5 in /databricks/python3/lib/python3.9/site-packages (from requests>=2.18.4->azure-core==1.27.1) (3.3)\nRequirement already satisfied: charset-normalizer~=2.0.0 in /databricks/python3/lib/python3.9/site-packages (from requests>=2.18.4->azure-core==1.27.1) (2.0.4)\nRequirement already satisfied: urllib3<1.27,>=1.21.1 in /databricks/python3/lib/python3.9/site-packages (from requests>=2.18.4->azure-core==1.27.1) (1.26.9)\nRequirement already satisfied: certifi>=2017.4.17 in /databricks/python3/lib/python3.9/site-packages (from requests>=2.18.4->azure-core==1.27.1) (2021.10.8)\nInstalling collected packages: typing-extensions, azure-core\n  Attempting uninstall: typing-extensions\n    Found existing installation: typing-extensions 4.1.1\n    Not uninstalling typing-extensions at /databricks/python3/lib/python3.9/site-packages, outside environment /local_disk0/.ephemeral_nfs/envs/pythonEnv-48678879-3b27-4b7c-91ca-4b0b0ad34dff\n    Can't uninstall 'typing-extensions'. No files were found to uninstall.\nSuccessfully installed azure-core-1.27.1 typing-extensions-4.7.1\nPython interpreter will be restarted.\nPython interpreter will be restarted.\nCollecting azure-search-documents==11.4.0b3\n  Downloading azure_search_documents-11.4.0b3-py3-none-any.whl (296 kB)\nRequirement already satisfied: azure-core<2.0.0,>=1.24.0 in /local_disk0/.ephemeral_nfs/envs/pythonEnv-48678879-3b27-4b7c-91ca-4b0b0ad34dff/lib/python3.9/site-packages (from azure-search-documents==11.4.0b3) (1.27.1)\nCollecting isodate>=0.6.0\n  Downloading isodate-0.6.1-py2.py3-none-any.whl (41 kB)\nCollecting azure-common~=1.1\n  Downloading azure_common-1.1.28-py2.py3-none-any.whl (14 kB)\nRequirement already satisfied: typing-extensions>=4.3.0 in /local_disk0/.ephemeral_nfs/envs/pythonEnv-48678879-3b27-4b7c-91ca-4b0b0ad34dff/lib/python3.9/site-packages (from azure-core<2.0.0,>=1.24.0->azure-search-documents==11.4.0b3) (4.7.1)\nRequirement already satisfied: six>=1.11.0 in /databricks/python3/lib/python3.9/site-packages (from azure-core<2.0.0,>=1.24.0->azure-search-documents==11.4.0b3) (1.16.0)\nRequirement already satisfied: requests>=2.18.4 in /databricks/python3/lib/python3.9/site-packages (from azure-core<2.0.0,>=1.24.0->azure-search-documents==11.4.0b3) (2.27.1)\nRequirement already satisfied: idna<4,>=2.5 in /databricks/python3/lib/python3.9/site-packages (from requests>=2.18.4->azure-core<2.0.0,>=1.24.0->azure-search-documents==11.4.0b3) (3.3)\nRequirement already satisfied: charset-normalizer~=2.0.0 in /databricks/python3/lib/python3.9/site-packages (from requests>=2.18.4->azure-core<2.0.0,>=1.24.0->azure-search-documents==11.4.0b3) (2.0.4)\nRequirement already satisfied: urllib3<1.27,>=1.21.1 in /databricks/python3/lib/python3.9/site-packages (from requests>=2.18.4->azure-core<2.0.0,>=1.24.0->azure-search-documents==11.4.0b3) (1.26.9)\nRequirement already satisfied: certifi>=2017.4.17 in /databricks/python3/lib/python3.9/site-packages (from requests>=2.18.4->azure-core<2.0.0,>=1.24.0->azure-search-documents==11.4.0b3) (2021.10.8)\nInstalling collected packages: isodate, azure-common, azure-search-documents\nSuccessfully installed azure-common-1.1.28 azure-search-documents-11.4.0b3 isodate-0.6.1\nPython interpreter will be restarted.\nPython interpreter will be restarted.\nCollecting azure-storage-blob==12.14.1\n  Downloading azure_storage_blob-12.14.1-py3-none-any.whl (383 kB)\nCollecting msrest>=0.7.1\n  Downloading msrest-0.7.1-py3-none-any.whl (85 kB)\nRequirement already satisfied: azure-core<2.0.0,>=1.24.2 in /local_disk0/.ephemeral_nfs/envs/pythonEnv-48678879-3b27-4b7c-91ca-4b0b0ad34dff/lib/python3.9/site-packages (from azure-storage-blob==12.14.1) (1.27.1)\nRequirement already satisfied: cryptography>=2.1.4 in /databricks/python3/lib/python3.9/site-packages (from azure-storage-blob==12.14.1) (3.4.8)\nRequirement already satisfied: typing-extensions>=4.3.0 in /local_disk0/.ephemeral_nfs/envs/pythonEnv-48678879-3b27-4b7c-91ca-4b0b0ad34dff/lib/python3.9/site-packages (from azure-core<2.0.0,>=1.24.2->azure-storage-blob==12.14.1) (4.7.1)\nRequirement already satisfied: six>=1.11.0 in /databricks/python3/lib/python3.9/site-packages (from azure-core<2.0.0,>=1.24.2->azure-storage-blob==12.14.1) (1.16.0)\nRequirement already satisfied: requests>=2.18.4 in /databricks/python3/lib/python3.9/site-packages (from azure-core<2.0.0,>=1.24.2->azure-storage-blob==12.14.1) (2.27.1)\nRequirement already satisfied: cffi>=1.12 in /databricks/python3/lib/python3.9/site-packages (from cryptography>=2.1.4->azure-storage-blob==12.14.1) (1.15.0)\nRequirement already satisfied: pycparser in /databricks/python3/lib/python3.9/site-packages (from cffi>=1.12->cryptography>=2.1.4->azure-storage-blob==12.14.1) (2.21)\nRequirement already satisfied: isodate>=0.6.0 in /local_disk0/.ephemeral_nfs/envs/pythonEnv-48678879-3b27-4b7c-91ca-4b0b0ad34dff/lib/python3.9/site-packages (from msrest>=0.7.1->azure-storage-blob==12.14.1) (0.6.1)\nCollecting requests-oauthlib>=0.5.0\n  Downloading requests_oauthlib-1.3.1-py2.py3-none-any.whl (23 kB)\nRequirement already satisfied: certifi>=2017.4.17 in /databricks/python3/lib/python3.9/site-packages (from msrest>=0.7.1->azure-storage-blob==12.14.1) (2021.10.8)\nRequirement already satisfied: idna<4,>=2.5 in /databricks/python3/lib/python3.9/site-packages (from requests>=2.18.4->azure-core<2.0.0,>=1.24.2->azure-storage-blob==12.14.1) (3.3)\nRequirement already satisfied: charset-normalizer~=2.0.0 in /databricks/python3/lib/python3.9/site-packages (from requests>=2.18.4->azure-core<2.0.0,>=1.24.2->azure-storage-blob==12.14.1) (2.0.4)\nRequirement already satisfied: urllib3<1.27,>=1.21.1 in /databricks/python3/lib/python3.9/site-packages (from requests>=2.18.4->azure-core<2.0.0,>=1.24.2->azure-storage-blob==12.14.1) (1.26.9)\nCollecting oauthlib>=3.0.0\n  Downloading oauthlib-3.2.2-py3-none-any.whl (151 kB)\nInstalling collected packages: oauthlib, requests-oauthlib, msrest, azure-storage-blob\nSuccessfully installed azure-storage-blob-12.14.1 msrest-0.7.1 oauthlib-3.2.2 requests-oauthlib-1.3.1\nPython interpreter will be restarted.\nPython interpreter will be restarted.\nCollecting azure-identity==1.13.0b4\n  Downloading azure_identity-1.13.0b4-py3-none-any.whl (144 kB)\nRequirement already satisfied: six>=1.12.0 in /databricks/python3/lib/python3.9/site-packages (from azure-identity==1.13.0b4) (1.16.0)\nCollecting msal-extensions<2.0.0,>=0.3.0\n  Downloading msal_extensions-1.0.0-py2.py3-none-any.whl (19 kB)\nCollecting msal<2.0.0,>=1.20.0\n  Downloading msal-1.22.0-py2.py3-none-any.whl (90 kB)\nRequirement already satisfied: azure-core<2.0.0,>=1.11.0 in /local_disk0/.ephemeral_nfs/envs/pythonEnv-48678879-3b27-4b7c-91ca-4b0b0ad34dff/lib/python3.9/site-packages (from azure-identity==1.13.0b4) (1.27.1)\nRequirement already satisfied: cryptography>=2.5 in /databricks/python3/lib/python3.9/site-packages (from azure-identity==1.13.0b4) (3.4.8)\nRequirement already satisfied: typing-extensions>=4.3.0 in /local_disk0/.ephemeral_nfs/envs/pythonEnv-48678879-3b27-4b7c-91ca-4b0b0ad34dff/lib/python3.9/site-packages (from azure-core<2.0.0,>=1.11.0->azure-identity==1.13.0b4) (4.7.1)\nRequirement already satisfied: requests>=2.18.4 in /databricks/python3/lib/python3.9/site-packages (from azure-core<2.0.0,>=1.11.0->azure-identity==1.13.0b4) (2.27.1)\nRequirement already satisfied: cffi>=1.12 in /databricks/python3/lib/python3.9/site-packages (from cryptography>=2.5->azure-identity==1.13.0b4) (1.15.0)\nRequirement already satisfied: pycparser in /databricks/python3/lib/python3.9/site-packages (from cffi>=1.12->cryptography>=2.5->azure-identity==1.13.0b4) (2.21)\nCollecting PyJWT[crypto]<3,>=1.0.0\n  Downloading PyJWT-2.7.0-py3-none-any.whl (22 kB)\nCollecting portalocker<3,>=1.0\n  Downloading portalocker-2.7.0-py2.py3-none-any.whl (15 kB)\nRequirement already satisfied: idna<4,>=2.5 in /databricks/python3/lib/python3.9/site-packages (from requests>=2.18.4->azure-core<2.0.0,>=1.11.0->azure-identity==1.13.0b4) (3.3)\nRequirement already satisfied: charset-normalizer~=2.0.0 in /databricks/python3/lib/python3.9/site-packages (from requests>=2.18.4->azure-core<2.0.0,>=1.11.0->azure-identity==1.13.0b4) (2.0.4)\nRequirement already satisfied: urllib3<1.27,>=1.21.1 in /databricks/python3/lib/python3.9/site-packages (from requests>=2.18.4->azure-core<2.0.0,>=1.11.0->azure-identity==1.13.0b4) (1.26.9)\nRequirement already satisfied: certifi>=2017.4.17 in /databricks/python3/lib/python3.9/site-packages (from requests>=2.18.4->azure-core<2.0.0,>=1.11.0->azure-identity==1.13.0b4) (2021.10.8)\nInstalling collected packages: PyJWT, portalocker, msal, msal-extensions, azure-identity\nSuccessfully installed PyJWT-2.7.0 azure-identity-1.13.0b4 msal-1.22.0 msal-extensions-1.0.0 portalocker-2.7.0\nPython interpreter will be restarted.\n"
     ]
    }
   ],
   "source": [
    "# Install required modules\n",
    "%pip install azure-core==1.27.1\n",
    "%pip install azure-search-documents==11.4.0b3\n",
    "%pip install azure-storage-blob==12.14.1\n",
    "%pip install azure-identity==1.13.0b4"
   ]
  },
  {
   "cell_type": "code",
   "execution_count": 0,
   "metadata": {
    "application/vnd.databricks.v1+cell": {
     "cellMetadata": {
      "byteLimit": 2048000,
      "rowLimit": 10000
     },
     "inputWidgets": {},
     "nuid": "a5dd7855-a20e-40c8-bd05-457f8dbaf129",
     "showTitle": false,
     "title": ""
    }
   },
   "outputs": [],
   "source": [
    "import os\n",
    "import argparse\n",
    "import glob\n",
    "import html\n",
    "import io\n",
    "import re\n",
    "#import time\n",
    "#import base64\n",
    "#from typing import Dict\n",
    "#from pypdf import PdfReader, PdfWriter\n",
    "from azure.identity import AzureDeveloperCliCredential, AzureCliCredential\n",
    "from azure.core.credentials import AzureKeyCredential\n",
    "from azure.storage.blob import BlobServiceClient\n",
    "from azure.search.documents.indexes import SearchIndexClient\n",
    "from azure.search.documents.indexes.models import *\n",
    "from azure.search.documents import SearchClient\n",
    "#from azure.mgmt.msi import ManagedServiceIdentityClient"
   ]
  },
  {
   "cell_type": "code",
   "execution_count": 0,
   "metadata": {
    "application/vnd.databricks.v1+cell": {
     "cellMetadata": {
      "byteLimit": 2048000,
      "rowLimit": 10000
     },
     "inputWidgets": {},
     "nuid": "697fd477-8e89-4201-8d9b-d9acbb7e089d",
     "showTitle": false,
     "title": ""
    }
   },
   "outputs": [],
   "source": [
    "# Define connection info\n",
    "\n",
    "# Get the service endpoint and API key from the environment\n",
    "connection_string = \"https://stfo2di6bg7kyzi.blob.core.windows.net\"\n",
    "container_name = \"unzip\" #\"content\"\n",
    "from azure.identity import DefaultAzureCredential\n",
    "default_creds = DefaultAzureCredential()\n",
    "\n",
    "# Create a BlobServiceClient object using the connection string\n",
    "blob_service_client = BlobServiceClient(account_url=connection_string, credential=default_creds)"
   ]
  },
  {
   "cell_type": "code",
   "execution_count": 0,
   "metadata": {
    "application/vnd.databricks.v1+cell": {
     "cellMetadata": {
      "byteLimit": 2048000,
      "rowLimit": 10000
     },
     "inputWidgets": {},
     "nuid": "3f95a9ac-2b5b-4043-a6ff-86908de92fd9",
     "showTitle": false,
     "title": ""
    }
   },
   "outputs": [
    {
     "output_type": "stream",
     "name": "stdout",
     "output_type": "stream",
     "text": [
      "Blob exists.\n"
     ]
    }
   ],
   "source": [
    "blob_name = \"TNO_archive.zip\"\n",
    "source_blob_client = blob_service_client.get_blob_client(container=container_name, blob=blob_name )\n",
    "# Check if the blob exists\n",
    "blob_exists = source_blob_client.exists()\n",
    "\n",
    "if blob_exists:\n",
    "    print(\"Blob exists.\")"
   ]
  },
  {
   "cell_type": "code",
   "execution_count": 0,
   "metadata": {
    "application/vnd.databricks.v1+cell": {
     "cellMetadata": {
      "byteLimit": 2048000,
      "rowLimit": 10000
     },
     "inputWidgets": {},
     "nuid": "050f2ea1-ef79-4167-8f91-e4e3654d45aa",
     "showTitle": false,
     "title": ""
    }
   },
   "outputs": [
    {
     "output_type": "stream",
     "name": "stdout",
     "output_type": "stream",
     "text": [
      "Zip file extracted and uploaded successfully.\n"
     ]
    }
   ],
   "source": [
    "from io import BytesIO\n",
    "import concurrent.futures\n",
    "import zipfile\n",
    "# Download the source blob into memory\n",
    "downloaded_blob = source_blob_client.download_blob()\n",
    "zip_data = downloaded_blob.content_as_bytes()\n",
    "# Destination Blob container\n",
    "destination_container_name = 'unzipped2'\n",
    "\n",
    "# Function to extract and upload a file\n",
    "def extract_and_upload(file_info):\n",
    "    extracted_data = zip_ref.read(file_info.filename)\n",
    "    destination_blob_name = file_info.filename\n",
    "    destination_blob_client = blob_service_client.get_blob_client(container=destination_container_name, blob=destination_blob_name)\n",
    "    destination_blob_client.upload_blob(extracted_data, overwrite=True)\n",
    "\n",
    "# Extract the zip file in memory\n",
    "with BytesIO(zip_data) as zip_stream:\n",
    "    with zipfile.ZipFile(zip_stream, 'r') as zip_ref:\n",
    "        # Create a ThreadPoolExecutor with a maximum of 10 worker threads\n",
    "        with concurrent.futures.ThreadPoolExecutor(max_workers=10) as executor:\n",
    "            # Iterate through each file in the zip and submit tasks to the executor\n",
    "            futures = [executor.submit(extract_and_upload, file_info) for file_info in zip_ref.infolist()]\n",
    "            \n",
    "            # Wait for all tasks to complete\n",
    "            concurrent.futures.wait(futures)\n",
    "\n",
    "print(\"Zip file extracted and uploaded successfully.\")"
   ]
  }
 ],
 "metadata": {
  "application/vnd.databricks.v1+notebook": {
   "dashboards": [],
   "language": "python",
   "notebookMetadata": {
    "pythonIndentUnit": 4
   },
   "notebookName": "Move blobs 2023-06-26 15:06:58",
   "widgets": {}
  }
 },
 "nbformat": 4,
 "nbformat_minor": 0
}
